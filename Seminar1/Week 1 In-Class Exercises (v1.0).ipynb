{
 "cells": [
  {
   "cell_type": "markdown",
   "metadata": {},
   "source": [
    "<table class=\"table table-bordered\">\n",
    "    <tr>\n",
    "        <th style=\"text-align:center; width:35%\"><img src='https://dl.dropbox.com/s/qtzukmzqavebjd2/icon_smu.jpg' style=\"width: 300px; height: 90px; \"></th>\n",
    "        <th style=\"text-align:center;\"><h3>IS111 - In-Class Exercises</h3><h3>Week 1</h3></th>\n",
    "    </tr>\n",
    "</table>"
   ]
  },
  {
   "cell_type": "markdown",
   "metadata": {},
   "source": [
    "### Q1: Operators\n",
    "\n",
    "Without running the code below, what do you think the output will be?"
   ]
  },
  {
   "cell_type": "code",
   "execution_count": 1,
   "metadata": {
    "pycharm": {
     "name": "#%%\n"
    }
   },
   "outputs": [
    {
     "name": "stdout",
     "output_type": "stream",
     "text": [
      "4.8\n",
      "-3.0\n",
      "-3.0\n",
      "4\n",
      "1\n",
      "1\n",
      "abc def\n"
     ]
    },
    {
     "ename": "TypeError",
     "evalue": "can only concatenate str (not \"int\") to str",
     "output_type": "error",
     "traceback": [
      "\u001B[0;31m---------------------------------------------------------------------------\u001B[0m",
      "\u001B[0;31mTypeError\u001B[0m                                 Traceback (most recent call last)",
      "\u001B[0;32m<ipython-input-1-3137d45fc86f>\u001B[0m in \u001B[0;36m<module>\u001B[0;34m\u001B[0m\n\u001B[1;32m      7\u001B[0m \u001B[0;34m\u001B[0m\u001B[0m\n\u001B[1;32m      8\u001B[0m \u001B[0mprint\u001B[0m\u001B[0;34m(\u001B[0m\u001B[0;34m\"abc\"\u001B[0m \u001B[0;34m+\u001B[0m \u001B[0;34m\" \"\u001B[0m \u001B[0;34m+\u001B[0m \u001B[0;34m\"def\"\u001B[0m\u001B[0;34m)\u001B[0m\u001B[0;34m\u001B[0m\u001B[0;34m\u001B[0m\u001B[0m\n\u001B[0;32m----> 9\u001B[0;31m \u001B[0mprint\u001B[0m\u001B[0;34m(\u001B[0m\u001B[0;34m\"abc\"\u001B[0m \u001B[0;34m+\u001B[0m \u001B[0;36m123\u001B[0m\u001B[0;34m)\u001B[0m\u001B[0;34m\u001B[0m\u001B[0;34m\u001B[0m\u001B[0m\n\u001B[0m\u001B[1;32m     10\u001B[0m \u001B[0;34m\u001B[0m\u001B[0m\n\u001B[1;32m     11\u001B[0m \u001B[0;34m\u001B[0m\u001B[0m\n",
      "\u001B[0;31mTypeError\u001B[0m: can only concatenate str (not \"int\") to str"
     ]
    }
   ],
   "source": [
    "print(2 + 3 * 3 / 5 - 2 + 8 % 5)\n",
    "print(15 % 5 - 15 / 5)\n",
    "print(10 / 2.5 / 2 - 5)\n",
    "print(11 // 4 * 2)\n",
    "print((3 + 5) * 2 % 3)\n",
    "print(2 + 3 * 6 % 3 ** 2 - 1)\n",
    "\n",
    "print(\"abc\" + \" \" + \"def\")\n",
    "print(\"abc\" + 123)\n",
    "\n"
   ]
  },
  {
   "cell_type": "markdown",
   "metadata": {},
   "source": [
    "### Q2: BMI Calculator\n",
    "\n",
    "You have probably heard about the body mass index or BMI. The definition of BMI from Wikipedia can be found below:\n",
    "\n",
    "\"The body mass index (BMI) or Quetelet index is a value derived from the mass (weight) and height of an individual. The BMI is defined as the body mass divided by the square of the body height, and is universally expressed in units of $\\text{kg}/\\text{m}^2$, resulting from mass in kilograms and height in metres.\"\n",
    "\n",
    "The formula to calculate BMI is also given below:\n",
    "\n",
    "$$\\text{BMI} = \\frac{\\text{mass}}{\\text{height}^2}$$\n",
    "\n",
    "Here mass is in kilograms and height is in metres.\n",
    "\n",
    "Write a piece of Python code that does the following:\n",
    "\n",
    "<ul>\n",
    "    <li>It prompts the user for his/her weight in kilograms.</li>\n",
    "    <li>It then prompts the user for his/her height in metres.</li>\n",
    "    <li>It calculates the BMI of this person and displays the BMI value to the screen.</li>\n",
    "</ul>\n",
    "\n",
    "A sample run of the code gives the following output:\n",
    "\n",
    "<img src=\"http://drive.google.com/uc?export=view&id=0B3N0YMArBdSBdHZqdnhDT2xzSEk\">"
   ]
  },
  {
   "cell_type": "code",
   "execution_count": 5,
   "metadata": {
    "pycharm": {
     "name": "#%%\n"
    }
   },
   "outputs": [
    {
     "name": "stdout",
     "output_type": "stream",
     "text": [
      "What's your weight (in kg)?\n",
      "55\n",
      "What's your height (in m)?\n",
      "1.76\n"
     ]
    },
    {
     "ename": "TypeError",
     "evalue": "unsupported operand type(s) for ^: 'float' and 'int'",
     "output_type": "error",
     "traceback": [
      "\u001B[0;31m---------------------------------------------------------------------------\u001B[0m",
      "\u001B[0;31mTypeError\u001B[0m                                 Traceback (most recent call last)",
      "\u001B[0;32m<ipython-input-5-0cba818f3a55>\u001B[0m in \u001B[0;36m<module>\u001B[0;34m\u001B[0m\n\u001B[1;32m      8\u001B[0m     \u001B[0mprint\u001B[0m\u001B[0;34m(\u001B[0m\u001B[0;34m\"Incorrect input.\"\u001B[0m\u001B[0;34m)\u001B[0m\u001B[0;34m\u001B[0m\u001B[0;34m\u001B[0m\u001B[0m\n\u001B[1;32m      9\u001B[0m     \u001B[0mexit\u001B[0m\u001B[0;34m(\u001B[0m\u001B[0;34m)\u001B[0m\u001B[0;34m\u001B[0m\u001B[0;34m\u001B[0m\u001B[0m\n\u001B[0;32m---> 10\u001B[0;31m \u001B[0mprint\u001B[0m\u001B[0;34m(\u001B[0m\u001B[0;34m\"Your BMI is \"\u001B[0m \u001B[0;34m+\u001B[0m \u001B[0mweight\u001B[0m\u001B[0;34m/\u001B[0m\u001B[0;34m(\u001B[0m\u001B[0mheight\u001B[0m\u001B[0;34m^\u001B[0m\u001B[0;36m2\u001B[0m\u001B[0;34m)\u001B[0m\u001B[0;34m)\u001B[0m\u001B[0;34m\u001B[0m\u001B[0;34m\u001B[0m\u001B[0m\n\u001B[0m",
      "\u001B[0;31mTypeError\u001B[0m: unsupported operand type(s) for ^: 'float' and 'int'"
     ]
    }
   ],
   "source": [
    "# Try catch since we don't have TryParse in Python.\n",
    "try:\n",
    "    print(\"What's your weight (in kg)?\")\n",
    "    weight = float(input())\n",
    "\n",
    "    print(\"What's your height (in m)?\")\n",
    "    height = float(input())\n",
    "except ValueError:\n",
    "    print(\"Incorrect input.\")\n",
    "    exit()\n",
    "# Take note to never use ^ in Python.\n",
    "# https://stackoverflow.com/questions/34258537/python-typeerror-unsupported-operand-types-for-float-and-int\n",
    "# You can only print strings.\n",
    "# https://stackoverflow.com/questions/52796600/typeerror-can-only-concatenate-str-not-float-to-str\n",
    "print(\"Your BMI is \" + str(weight/(height**2)))"
   ]
  },
  {
   "cell_type": "markdown",
   "metadata": {},
   "source": [
    "### Q3: Odd/Even Numbers\n",
    "\n",
    "Write a piece of Python code that does the following:\n",
    "\n",
    "<ul>\n",
    "    <li>It sequentially prompts the user for 4 integers.</li>\n",
    "    <li>It computes and displays the percentage of odd numbers and even numbers for these 4 integers, without using any conditional statements like if-then-else.</li>\n",
    "</ul>\n",
    "\n",
    "For instance, if the 4 numbers are 1, 7, 4, 6, then the percentage of odd and even numbers that are generated are 50% and 50% respectively. If the 4 numbers are 4, 2, 8, 5, then the percentage of odd and even numbers that are generated are 75% and 25% respectively.\n",
    "\n",
    "Hint: You may want to use the modulo-2 operation to determine if a number is odd or even."
   ]
  },
  {
   "cell_type": "code",
   "execution_count": null,
   "outputs": [],
   "source": [
    "# Determine the percentage dominance of even and odd numbers within a collection of numbers.\n",
    "numbers = []\n",
    "\n",
    "# Try catch since we don't have TryParse in Python.\n",
    "try:\n",
    "    print(\"Enter the first number\")\n",
    "    numbers[0] = int(input())\n",
    "\n",
    "    print(\"Enter the second number\")\n",
    "    numbers[1] = int(input())\n",
    "\n",
    "    print(\"Enter the third number\")\n",
    "    numbers[2] = int(input())\n",
    "\n",
    "    print(\"Enter the last number\")\n",
    "    numbers[3] = int(input())\n",
    "except ValueError:\n",
    "    print(\"Incorrect input.\")\n",
    "    exit()\n",
    "\n",
    "print(\"Your BMI is \" + str(weight/(height**2)))\n",
    "\n",
    "oddCount = 0;\n",
    "evenCount = 0;\n",
    "for number in numbers:\n",
    "    if (number % 2) == 0: # if modulo-2 is 0\n",
    "        evenCount += 1\n",
    "    else:\n",
    "        oddCount += 1\n",
    "\n",
    "print(\"The Odd Number Dominance is: \", oddCount / 4 * 100, \"%\")\n",
    "print(\"The Even Number Dominance is: \", evenCount / 4 * 100, \"%\")"
   ],
   "metadata": {
    "collapsed": false,
    "pycharm": {
     "name": "#%%\n"
    }
   }
  }
 ],
 "metadata": {
  "kernelspec": {
   "display_name": "Python 3",
   "language": "python",
   "name": "python3"
  },
  "language_info": {
   "codemirror_mode": {
    "name": "ipython",
    "version": 3
   },
   "file_extension": ".py",
   "mimetype": "text/x-python",
   "name": "python",
   "nbconvert_exporter": "python",
   "pygments_lexer": "ipython3",
   "version": "3.7.7"
  }
 },
 "nbformat": 4,
 "nbformat_minor": 2
}