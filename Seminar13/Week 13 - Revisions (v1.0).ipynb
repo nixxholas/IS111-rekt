{
 "cells": [
  {
   "cell_type": "markdown",
   "metadata": {},
   "source": [
    "## <font color = 'green'>Variables, Operators, Precedence</font>"
   ]
  },
  {
   "cell_type": "markdown",
   "metadata": {},
   "source": [
    "### 1. Which variables below are not valid (i.e., will cause an error)?"
   ]
  },
  {
   "cell_type": "markdown",
   "metadata": {},
   "source": [
    "\n",
    "<table align=\"left\" class=\"table table-bordered\" style=\"width:40%\">\n",
    "<tr>\n",
    "<th style=\"text-align:center; width:20%\">No</th>\n",
    "<th style=\"text-align:center; width:50%\">name</th>\n",
    "<th style=\"text-align:center;\">valid?</th>\n",
    "</tr>\n",
    "<tr><td style=\"text-align:center; \">a.</td><td>interest-rate</td><td>No</td></tr>\n",
    "<tr><td style=\"text-align:center; \">b.</td><td>I&#95;love&#95;programming!</td><td>No</td></tr>\n",
    "<tr><td style=\"text-align:center; \">c.</td><td>apple&#95;tv&#95;123</td><td>Yes</td></tr>\n",
    "<tr><td style=\"text-align:center; \">d.</td><td>gold&#95;is&#95;expensive&#95;&#36;</td><td>No</td></tr>\n",
    "<tr><td style=\"text-align:center; \">e.</td><td>COUNTER</td><td>Yes</td></tr>\n",
    "<tr><td style=\"text-align:center; \">f.</td><td>fruit.apple</td><td>No</td></tr>\n",
    "<tr><td style=\"text-align:center; \">g.</td><td>4&#95;you</td><td>Yes</td></tr>\n",
    "<tr><td style=\"text-align:center; \">h.</td><td>&#95;account&#95;balance</td><td>Yes</td></tr>\n",
    "</table>"
   ]
  },
  {
   "cell_type": "markdown",
   "metadata": {},
   "source": [
    "### 2. Evaluate the following expressions:"
   ]
  },
  {
   "cell_type": "markdown",
   "metadata": {},
   "source": [
    "<table align=\"left\" class=\"table table-bordered\" style=\"width:50%\">\n",
    "<tr>\n",
    "<th style=\"text-align:center; width:5%\">#</th>\n",
    "<th style=\"text-align:center; width:30%\">Expression to evaluate</th>\n",
    "<th style=\"text-align:center; width:10%\">Result</th>\n",
    "</tr>\n",
    "<tr><td style=\"text-align:center; \">a.</td><td>print (15 // 7)</td><td>2</td></tr>\n",
    "<tr><td style=\"text-align:center; \">b.</td><td>print (16 / 4)</td><td>4</td></tr>\n",
    "<tr><td style=\"text-align:center; \">c.</td><td>print (15 % 4 == 12 // 4)</td><td>True</td></tr>\n",
    "<tr><td style=\"text-align:center; \">d.</td><td>print (30 - 3 &#8727;&#8727; 2 + 8 // 3 &#8727;&#8727; 2 &#8727; 10)</td><td>21</td></tr>\n",
    "<tr><td style=\"text-align:center; \">e.</td><td>print(2 &#8727;&#8727; 2 &#8727;&#8727; 3)</td><td>64</td></tr>\n",
    "</table>"
   ]
  },
  {
   "cell_type": "markdown",
   "metadata": {},
   "source": [
    "## <font color = 'green'>Strings</font>"
   ]
  },
  {
   "cell_type": "markdown",
   "metadata": {},
   "source": [
    "### 3. Trace the output of the following code:"
   ]
  },
  {
   "cell_type": "code",
   "execution_count": null,
   "metadata": {
    "tags": []
   },
   "outputs": [],
   "source": [
    "name_1 = 'Good morning!'\n",
    "name_2 = 'Good evening!'\n",
    "\n",
    "print (name_1[0] + name_1[5] + name_1[len(name_1) - 1])\n",
    "\n",
    "print (name_1[0:4], name_2[5:])\n",
    "\n",
    "substr = name_2[5:9] + 't'\n",
    "print(substr)\n",
    "print(substr[::-1])"
   ]
  },
  {
   "cell_type": "markdown",
   "metadata": {},
   "source": [
    "### 4. \n",
    "\n",
    "Write a program that prompts the user for a positive integer. The program prints out the odd integers between 1 and the number (both inclusive).\n",
    "\n",
    "\n",
    "```\n",
    "Enter a number :10\n",
    "1 3 5 7 9 \n",
    "```\n",
    "\n",
    "```\n",
    "Enter a number :5\n",
    "1 3 5\n",
    "```"
   ]
  },
  {
   "cell_type": "code",
   "execution_count": null,
   "metadata": {},
   "outputs": [],
   "source": []
  },
  {
   "cell_type": "markdown",
   "metadata": {},
   "source": [
    "### 5. \n",
    "\n",
    "Write a program that prompts the user for a positive integer. Call this number $n$. The program then displays all the even numbers between 0 and 2$n$ (both inclusive).\n",
    "\n",
    "```\n",
    "Enter a number :10\n",
    "0 2 4 6 8 10 12 14 16 18 20 \n",
    "```\n",
    "\n",
    "Other sample run:\n",
    "\n",
    "```\n",
    "Enter a number :15\n",
    "0 2 4 6 8 10 12 14 16 18 20 22 24 26 28 30 \n",
    "```"
   ]
  },
  {
   "cell_type": "code",
   "execution_count": null,
   "metadata": {},
   "outputs": [],
   "source": []
  },
  {
   "cell_type": "markdown",
   "metadata": {},
   "source": [
    "### 6."
   ]
  },
  {
   "cell_type": "markdown",
   "metadata": {},
   "source": [
    "Observe the output below and write a program that prompts the user for a positive integer and prints out a sequence of numbers as shown below:\n",
    "\n",
    "Sample run 1:\n",
    "\n",
    "```\n",
    "Enter a number :10\n",
    "0 4 8 12 16 20 \n",
    "```\n",
    "Sample run 2:\n",
    "\n",
    "```\n",
    "Enter a number :35\n",
    "0 4 8 12 16 20 24 28 32 36 40 44 48 52 56 60 64 68 \n",
    "```"
   ]
  },
  {
   "cell_type": "code",
   "execution_count": null,
   "metadata": {},
   "outputs": [],
   "source": []
  },
  {
   "cell_type": "markdown",
   "metadata": {},
   "source": [
    "### 7.\n",
    "\n",
    "Write a program that takes in a string and prints out the characters with odd indices. \n",
    "\n",
    "\n",
    "```\n",
    "Enter a sentence :Blue Lagoon\n",
    "position 1: l\n",
    "position 3: e\n",
    "position 5: L\n",
    "position 7: g\n",
    "position 9: o\n",
    "\n",
    "total: 5 characters at odd positions\n",
    "```\n"
   ]
  },
  {
   "cell_type": "code",
   "execution_count": null,
   "metadata": {},
   "outputs": [],
   "source": []
  },
  {
   "cell_type": "markdown",
   "metadata": {},
   "source": [
    "### 8. \n",
    "\n",
    "Write a program that prompts the user for a string and displays the string where all the vowels ('a', 'e', 'i', 'o', 'u') have been replaced by *.\n",
    "\n",
    "```\n",
    "Enter a sentence :Mississipi River\n",
    "New sentence:M*ss*ss*p* R*v*r\n",
    "```"
   ]
  },
  {
   "cell_type": "code",
   "execution_count": null,
   "metadata": {},
   "outputs": [],
   "source": []
  },
  {
   "cell_type": "markdown",
   "metadata": {},
   "source": [
    "## <font color = 'green'>Conditional Statements</font>"
   ]
  },
  {
   "cell_type": "markdown",
   "metadata": {},
   "source": [
    "### 9. \n",
    "Given the Python code below, what will be the output of the code for the following values of n?\n",
    "\n"
   ]
  },
  {
   "cell_type": "code",
   "execution_count": null,
   "metadata": {},
   "outputs": [],
   "source": [
    "if n <= 5:\n",
    "    print('Morning')\n",
    "else: \n",
    "    if n > 20:\n",
    "        print('Afternoon')\n",
    "    elif n < 10:\n",
    "        print('Evening')\n",
    "    elif n > 8:\n",
    "        print('Night')\n",
    "    else:\n",
    "        print('Day')"
   ]
  },
  {
   "cell_type": "markdown",
   "metadata": {},
   "source": [
    "<table align=\"left\" class=\"table table-bordered\" style=\"width:40%\">\n",
    "<tr>\n",
    "<th style=\"text-align:center; width:5%\">No</th>\n",
    "<th style=\"text-align:center; width:5%\">Value of a</th>\n",
    "<th style=\"text-align:center; width:10%\">Output</th>\n",
    "</tr>\n",
    "<tr><td style=\"text-align:center; \">a.</td><td>n = 2</td><td></td></tr>\n",
    "<tr><td style=\"text-align:center; \">b.</td><td>n = 7</td><td></td></tr>\n",
    "<tr><td style=\"text-align:center; \">c.</td><td>n = 9</td><td></td></tr>\n",
    "<tr><td style=\"text-align:center; \">d.</td><td>n = 18</td><td></td></tr>\n",
    "</table>\n",
    "\n",
    "#### <br /><br /><br /><br /><br /><br /><br /><br /><br /><br /><br /><br /><br />Which value of n will print 'Day' on the screen?"
   ]
  },
  {
   "cell_type": "markdown",
   "metadata": {},
   "source": [
    "## <font color = 'green'>Lists</font>"
   ]
  },
  {
   "cell_type": "markdown",
   "metadata": {},
   "source": [
    "### 10. What is the output of the following code?"
   ]
  },
  {
   "cell_type": "markdown",
   "metadata": {},
   "source": [
    "#### a)"
   ]
  },
  {
   "cell_type": "code",
   "execution_count": null,
   "metadata": {},
   "outputs": [],
   "source": [
    "list1 = []\n",
    "for n in range(2, 15):\n",
    "    if n % 5 == 0 or n % 3 == 0:\n",
    "        list1.append(n)\n",
    "print(list1)"
   ]
  },
  {
   "cell_type": "markdown",
   "metadata": {},
   "source": [
    "#### b)"
   ]
  },
  {
   "cell_type": "code",
   "execution_count": null,
   "metadata": {},
   "outputs": [],
   "source": [
    "list2 = []\n",
    "for n in range(2, 20):\n",
    "    if n % 2 == 0 and n % 7 == 0:\n",
    "        list2.append(n)\n",
    "print(list2)"
   ]
  },
  {
   "cell_type": "markdown",
   "metadata": {},
   "source": [
    "#### c)"
   ]
  },
  {
   "cell_type": "code",
   "execution_count": null,
   "metadata": {},
   "outputs": [],
   "source": [
    "list1 = [1, 3, 5, 7, 9]\n",
    "list2 = [2, 4, 6, 8]\n",
    "\n",
    "my_list = list1[1:4] + [len(list1)] + list2[len(list2)-3:] \n",
    "my_list.append(len(list2))\n",
    "print(my_list)  "
   ]
  },
  {
   "cell_type": "markdown",
   "metadata": {},
   "source": [
    "#### d)"
   ]
  },
  {
   "cell_type": "code",
   "execution_count": null,
   "metadata": {},
   "outputs": [],
   "source": [
    "my_list = [3, 5, 7, 5, 4, 6, 8, 4]\n",
    "\n",
    "your_list = []\n",
    "for n in my_list:\n",
    "    if n not in your_list:\n",
    "        your_list.append(n)\n",
    "print(your_list)"
   ]
  },
  {
   "cell_type": "markdown",
   "metadata": {},
   "source": [
    "#### e)"
   ]
  },
  {
   "cell_type": "markdown",
   "metadata": {},
   "source": [
    "Define a function ```get_total_length()``` that takes in a list of strings as its parameter. The function returns the total length of all the strings in the list.\n",
    "\n",
    "E.g. ```get_total_length(['123', '00, 'abcde'])``` should return 10.\n"
   ]
  },
  {
   "cell_type": "code",
   "execution_count": null,
   "metadata": {},
   "outputs": [],
   "source": []
  },
  {
   "cell_type": "markdown",
   "metadata": {},
   "source": [
    "## <font color = 'green'>Functions</font>"
   ]
  },
  {
   "cell_type": "markdown",
   "metadata": {},
   "source": [
    "### 11. What is the output of the following code?"
   ]
  },
  {
   "cell_type": "markdown",
   "metadata": {},
   "source": [
    "#### a)"
   ]
  },
  {
   "cell_type": "code",
   "execution_count": null,
   "metadata": {},
   "outputs": [],
   "source": [
    "def mystery1(a, b, c):\n",
    "    a = b + c\n",
    "    d = 2 * a\n",
    "    print(d)\n",
    "    return a + b / c\n",
    "\n",
    "c = 2\n",
    "b = 3\n",
    "a = 4\n",
    "d = mystery1(a, b, c)\n",
    "print(d)"
   ]
  },
  {
   "cell_type": "markdown",
   "metadata": {},
   "source": [
    "#### b)"
   ]
  },
  {
   "cell_type": "code",
   "execution_count": null,
   "metadata": {},
   "outputs": [],
   "source": [
    "def mystery2(s1, s2):\n",
    "    s = s1[1:len(s1)] + s2[0:3]\n",
    "    to_return = s.split('o')\n",
    "    return to_return\n",
    "    \n",
    "str1 = 'hello'\n",
    "str2 = 'world'\n",
    "unknown = mystery2(str1, str2)\n",
    "print(unknown)"
   ]
  },
  {
   "cell_type": "markdown",
   "metadata": {},
   "source": [
    "#### c)"
   ]
  },
  {
   "cell_type": "code",
   "execution_count": null,
   "metadata": {},
   "outputs": [],
   "source": [
    "def mystery3(my_list, word):\n",
    "    for i in range(len(my_list)):\n",
    "        if word in my_list[i]:\n",
    "            my_list[i] = '*'\n",
    "\n",
    "str_list = ['apple', 'banana', 'durian', 'mango', 'pear']\n",
    "mystery3(str_list, 'p')\n",
    "print(str_list)"
   ]
  },
  {
   "cell_type": "markdown",
   "metadata": {},
   "source": [
    "#### d)"
   ]
  },
  {
   "cell_type": "code",
   "execution_count": null,
   "metadata": {},
   "outputs": [],
   "source": [
    "def mystery4(my_list, word):\n",
    "    for item in my_list:\n",
    "        if word in item:\n",
    "            item = '*'\n",
    "    \n",
    "str_list = ['apple', 'banana', 'durian', 'mango', 'pear']\n",
    "mystery4(str_list, 'p')\n",
    "print(str_list)"
   ]
  },
  {
   "cell_type": "markdown",
   "metadata": {},
   "source": [
    "#### e)"
   ]
  },
  {
   "cell_type": "code",
   "execution_count": null,
   "metadata": {},
   "outputs": [],
   "source": [
    "def modify_list_1(num_list):\n",
    "    num_list.append(0)\n",
    "    \n",
    "def modify_list_2(num_list):\n",
    "    num_list[0] = 0\n",
    "\n",
    "def modify_list_3(num_list):\n",
    "    num_list = num_list + [0]\n",
    "\n",
    "my_list = [1, 2, 3]\n",
    "modify_list_1(my_list)\n",
    "print(my_list)\n",
    "\n",
    "my_list = [1, 2, 3]\n",
    "modify_list_2(my_list)\n",
    "print(my_list)\n",
    "\n",
    "my_list = [1, 2, 3]\n",
    "modify_list_3(my_list)\n",
    "print(my_list)\n",
    "    "
   ]
  },
  {
   "cell_type": "markdown",
   "metadata": {},
   "source": [
    "#### f) What is the output of the following code?"
   ]
  },
  {
   "cell_type": "code",
   "execution_count": null,
   "metadata": {},
   "outputs": [],
   "source": [
    "def mystery5(x, y=10, z='SMU'):\n",
    "    print(x + y)\n",
    "    print(z + ' Student Association')\n",
    "    \n",
    "mystery5(3)\n",
    "print()\n",
    "\n",
    "mystery5(3, 2)\n",
    "print()\n",
    "\n",
    "mystery5(3, 2, 'SUTD')\n",
    "print()\n",
    "\n",
    "mystery5(3, z='NTU')\n",
    "print()\n",
    "\n",
    "mystery5(3, y=5, z='NUS')\n",
    "print()\n",
    "\n",
    "mystery5(3, 'NUS') "
   ]
  },
  {
   "cell_type": "markdown",
   "metadata": {},
   "source": [
    " ## <font color = 'green'>while loops</font>"
   ]
  },
  {
   "cell_type": "markdown",
   "metadata": {},
   "source": [
    "### 12. Keep prompting the user for input until a criteria is fulfilled.\n",
    "\n",
    "Write some code that prompts the user for two integer numbers num1 and num2 and stops prompting the user when \n",
    "\n",
    "(1) num1 is a multiple of 3 and num2 is a multiple of 5,\n",
    "\n",
    "__or__ \n",
    "\n",
    "(2) when the sum of the two numbers is a multiple of 7.\n",
    "\n",
    "```\n",
    "first number : 4\n",
    "second number : 5\n",
    "Not valid!\n",
    "\n",
    "first number : 6\n",
    "second number : 6\n",
    "Not valid!\n",
    "\n",
    "first number : 6\n",
    "second number : 10\n",
    "Bye!\n",
    "```\n",
    "other sample run\n",
    "```\n",
    "first number : 17\n",
    "second number : 4\n",
    "Bye!\n",
    "```"
   ]
  },
  {
   "cell_type": "code",
   "execution_count": null,
   "metadata": {},
   "outputs": [],
   "source": []
  },
  {
   "cell_type": "markdown",
   "metadata": {},
   "source": [
    "## <font color = 'green'>Dictionary</font>"
   ]
  },
  {
   "cell_type": "markdown",
   "metadata": {},
   "source": [
    "### 13.  What's the output of the following code:"
   ]
  },
  {
   "cell_type": "code",
   "execution_count": null,
   "metadata": {},
   "outputs": [],
   "source": [
    "def modify_dict_1(num_dict, num):\n",
    "    num_dict[num] = 'hello'\n",
    "    \n",
    "def modify_dict_2(num_dict, my_str):\n",
    "    num_dict[0] = my_str\n",
    "    \n",
    "    \n",
    "num_dict = {5:'apple', 2:'banana', 0:'cherry'}\n",
    "modify_dict_1(num_dict, 5)\n",
    "print(num_dict)\n",
    "\n",
    "modify_dict_2(num_dict, 'peach')\n",
    "print(num_dict)"
   ]
  },
  {
   "cell_type": "markdown",
   "metadata": {},
   "source": [
    "## <font color = 'green'>Challenging Question</font>"
   ]
  },
  {
   "cell_type": "markdown",
   "metadata": {
    "collapsed": true
   },
   "source": [
    "### 14. reverse segments\n",
    "\n",
    "Define a function called ```reverse_segments()``` that takes in a string called ```text``` as its parameter.\n",
    "\n",
    "```text``` contains segments of texts separated by one of the following characters: ```|-=```.\n",
    "\n",
    "For example, ```text``` may be ```'a b c|def-123 aaa=|(abc)'``` .\n",
    "\n",
    "The segments inside the string are:\n",
    "\n",
    "```\n",
    "'a b c' ,  'def' , '123 aaa' , '' , '(abc)'\n",
    "```\n",
    "\n",
    "The function segments the input string and reverses each segment character by character. It then returns all the reversed segments as a list.\n",
    "\n",
    "For example, given the input string above, the function returns the following list:\n",
    "\n",
    "```\n",
    "['c b a', 'fed', 'aaa 321', '', ')cba(']\n",
    "```"
   ]
  },
  {
   "cell_type": "code",
   "execution_count": 2,
   "metadata": {
    "pycharm": {
     "name": "#%%\n"
    }
   },
   "outputs": [
    {
     "name": "stdout",
     "output_type": "stream",
     "text": [
      "['a b c|def-123 aaa=|(abc)']\n"
     ]
    }
   ],
   "source": [
    "# Write your code here\n",
    "def reverse_segments(text, separator='|-='):\n",
    "    res = []\n",
    "    cur_str = ''\n",
    "    while len(text) > 0:\n",
    "        if text[0] not in separator:\n",
    "            cur_str += text[0]\n",
    "            text = text[1:]\n",
    "\n",
    "            if len(text) == 0:\n",
    "                res.append(cur_str[::-1])\n",
    "                break\n",
    "        else:\n",
    "            res.append(cur_str[::-1])\n",
    "            text = text[1:]\n",
    "            cur_str = ''\n",
    "\n",
    "    return res\n",
    "\n",
    "\n",
    "print(reverse_segments('a b c|def-123 aaa=|(abc)'))"
   ]
  }
 ],
 "metadata": {
  "kernelspec": {
   "display_name": "Python 3",
   "language": "python",
   "name": "python3"
  },
  "language_info": {
   "codemirror_mode": {
    "name": "ipython",
    "version": 3
   },
   "file_extension": ".py",
   "mimetype": "text/x-python",
   "name": "python",
   "nbconvert_exporter": "python",
   "pygments_lexer": "ipython3",
   "version": "3.7.3-final"
  }
 },
 "nbformat": 4,
 "nbformat_minor": 2
}